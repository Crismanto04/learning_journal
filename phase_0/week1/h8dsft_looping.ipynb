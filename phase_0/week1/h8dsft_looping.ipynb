{
 "cells": [
  {
   "cell_type": "code",
   "execution_count": 2,
   "metadata": {},
   "outputs": [],
   "source": [
    "numbers = [951, 402, 984, 651, 360, 69, 408, 319, 601, 485, 980, 507, 725, 547, 544, 615, 83, 165, 141, 501, 263, 617, 865, 575, 219, 390, 984, 592, 236, 105,\n",
    " 942, 941, 386, 462, 47, 418, 907, 344, 236, 375, 823, 566, 597, 978, 328, 615, 953, 345, 399, 162, 758, 219, 918, 237, 412, 566, 826, 248, 866, 950, 626, \n",
    " 949]"
   ]
  },
  {
   "cell_type": "code",
   "execution_count": 11,
   "metadata": {},
   "outputs": [
    {
     "data": {
      "text/plain": [
       "62"
      ]
     },
     "execution_count": 11,
     "metadata": {},
     "output_type": "execute_result"
    }
   ],
   "source": [
    "len (numbers)"
   ]
  },
  {
   "cell_type": "code",
   "execution_count": 12,
   "metadata": {},
   "outputs": [
    {
     "name": "stdout",
     "output_type": "stream",
     "text": [
      "1 951\n",
      "2 402\n",
      "3 984\n",
      "4 651\n",
      "5 360\n",
      "6 69\n",
      "7 408\n",
      "8 319\n",
      "9 601\n",
      "10 485\n",
      "11 980\n",
      "12 507\n",
      "13 725\n",
      "14 547\n",
      "15 544\n",
      "16 615\n",
      "17 83\n",
      "18 165\n",
      "19 141\n",
      "20 501\n",
      "21 263\n",
      "22 617\n",
      "23 865\n",
      "24 575\n",
      "25 219\n",
      "26 390\n",
      "27 984\n",
      "28 592\n",
      "29 236\n",
      "30 105\n",
      "31 942\n",
      "32 941\n",
      "33 386\n",
      "34 462\n",
      "35 47\n",
      "36 418\n",
      "37 907\n",
      "38 344\n",
      "39 236\n",
      "40 375\n",
      "41 823\n",
      "42 566\n",
      "43 597\n",
      "44 978\n",
      "45 328\n",
      "46 615\n",
      "47 953\n",
      "48 345\n",
      "49 399\n",
      "50 162\n",
      "51 758\n",
      "52 219\n",
      "53 918\n",
      "54 237\n",
      "55 412\n",
      "56 566\n",
      "57 826\n",
      "58 248\n",
      "59 866\n",
      "60 950\n",
      "61 626\n",
      "62 949\n"
     ]
    }
   ],
   "source": [
    "# untuk mengetahui angka 918 ada di index ke berapa\n",
    "for index in range(len(numbers)) :\n",
    "    print (index+1, numbers[index])"
   ]
  },
  {
   "cell_type": "code",
   "execution_count": 24,
   "metadata": {},
   "outputs": [
    {
     "name": "stdout",
     "output_type": "stream",
     "text": [
      "402\n",
      "984\n",
      "360\n",
      "408\n",
      "980\n",
      "544\n",
      "390\n",
      "984\n",
      "592\n",
      "236\n",
      "942\n",
      "386\n",
      "462\n",
      "418\n",
      "344\n",
      "236\n",
      "566\n",
      "978\n",
      "328\n",
      "162\n",
      "758\n",
      "918\n",
      "Done\n"
     ]
    }
   ],
   "source": [
    "for genap in numbers[:54]:\n",
    "    if genap % 2 == 0:\n",
    "        print(genap)\n",
    "print ('Done')\n"
   ]
  },
  {
   "cell_type": "code",
   "execution_count": null,
   "metadata": {},
   "outputs": [],
   "source": []
  }
 ],
 "metadata": {
  "interpreter": {
   "hash": "f1d8b8002cab2477246033d714f77fd39b56422d333c478e35e92b905db81ccf"
  },
  "kernelspec": {
   "display_name": "Python 3.9.7 ('base')",
   "language": "python",
   "name": "python3"
  },
  "language_info": {
   "codemirror_mode": {
    "name": "ipython",
    "version": 3
   },
   "file_extension": ".py",
   "mimetype": "text/x-python",
   "name": "python",
   "nbconvert_exporter": "python",
   "pygments_lexer": "ipython3",
   "version": "3.9.7"
  },
  "orig_nbformat": 4
 },
 "nbformat": 4,
 "nbformat_minor": 2
}
